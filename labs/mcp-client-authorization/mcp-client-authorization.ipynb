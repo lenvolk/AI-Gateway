{
 "cells": [
  {
   "cell_type": "markdown",
   "metadata": {},
   "source": [
    "# APIM ❤️ MCP\n",
    "\n",
    "## MCP Client Authorization lab\n",
    "\n",
    "![flow](../../images/mcp-client-authorization.gif)\n",
    "\n",
    "Playground to experiment the [Model Context Protocol](https://modelcontextprotocol.io/) with the [client authorization flow](https://modelcontextprotocol.io/specification/2025-03-26/basic/authorization#2-10-third-party-authorization-flow). In this flow, Azure API Management act both as an OAuth client connecting to the [Microsoft Entra ID](https://learn.microsoft.com/en-us/entra/architecture/auth-oauth2) authorization server and as an OAuth authorization server for the MCP client ([MCP inspector](https://modelcontextprotocol.io/docs/tools/inspector) in this lab).\n",
    "\n",
    "\n",
    "This [sequence diagram](./diagrams/diagrams.md) explains the flow. \n",
    "\n",
    "⚠️ Due to the evolving nature of the [MCP Authorization proposal](https://modelcontextprotocol.io/specification/2025-03-26/basic/authorization), direct use of this implementation in production environments is not yet recommended.\n",
    "\n",
    "### Prerequisites\n",
    "\n",
    "- [Python 3.12 or later version](https://www.python.org/) installed\n",
    "- [VS Code](https://code.visualstudio.com/) installed with the [Jupyter notebook extension](https://marketplace.visualstudio.com/items?itemName=ms-toolsai.jupyter) enabled\n",
    "- [Python environment](https://code.visualstudio.com/docs/python/environments#_creating-environments) with the [requirements.txt](../../requirements.txt) or run `pip install -r requirements.txt` in your terminal\n",
    "- [An Azure Subscription](https://azure.microsoft.com/free/) with [Contributor](https://learn.microsoft.com/en-us/azure/role-based-access-control/built-in-roles/privileged#contributor) + [RBAC Administrator](https://learn.microsoft.com/en-us/azure/role-based-access-control/built-in-roles/privileged#role-based-access-control-administrator) or [Owner](https://learn.microsoft.com/en-us/azure/role-based-access-control/built-in-roles/privileged#owner) roles\n",
    "- [Azure CLI](https://learn.microsoft.com/cli/azure/install-azure-cli) installed and [Signed into your Azure subscription](https://learn.microsoft.com/cli/azure/authenticate-azure-cli-interactively)\n",
    "\n",
    "▶️ Click `Run All` to execute all steps sequentially, or execute them `Step by Step`...\n"
   ]
  },
  {
   "cell_type": "markdown",
   "metadata": {},
   "source": [
    "<a id='0'></a>\n",
    "### 0️⃣ Initialize notebook variables\n",
    "\n",
    "- Resources will be suffixed by a unique string based on your subscription id.\n",
    "- Adjust the location parameters according your preferences and on the [product availability by Azure region.](https://azure.microsoft.com/explore/global-infrastructure/products-by-region/?cdn=disable&products=cognitive-services,api-management) \n",
    "- Adjust the OpenAI model and version according the [availability by region.](https://learn.microsoft.com/azure/ai-services/openai/concepts/models) "
   ]
  },
  {
   "cell_type": "code",
   "execution_count": null,
   "metadata": {
    "metadata": {}
   },
   "outputs": [],
   "source": [
    "import os, sys, json, base64\n",
    "sys.path.insert(1, '../../shared')  # add the shared directory to the Python path\n",
    "import utils\n",
    "\n",
    "deployment_name = os.path.basename(os.path.dirname(globals()['__vsc_ipynb_file__']))\n",
    "resource_group_name = f\"lab-{deployment_name}\" # change the name to match your naming style\n",
    "resource_group_location = \"uksouth\"\n",
    "\n",
    "apim_sku = 'Basicv2'\n",
    "\n",
    "openai_resources = [ {\"name\": \"openai1\", \"location\": \"uksouth\"}]\n",
    "openai_model_name = \"gpt-4o-mini\"\n",
    "openai_model_version = \"2024-07-18\"\n",
    "openai_model_sku = \"GlobalStandard\"\n",
    "openai_deployment_name = \"gpt-4o-mini\"\n",
    "openai_api_version = \"2024-10-21\"\n",
    "\n",
    "app_registration_name = \"mcp-app-registration-01\"\n",
    "\n",
    "build = 0\n",
    "weather_mcp_server_image = \"weather-mcp-server\"\n",
    "weather_mcp_server_src = \"src/weather/mcp-server\"\n",
    "\n",
    "# In this lab we will generate AES keys for encryption and decryption of tokens.\n",
    "# This is an experimental feature and should NOT be used in production!\n",
    "encryption_iv = base64.b64encode(os.urandom(16)).decode('utf-8')\n",
    "encryption_key = base64.b64encode(os.urandom(16)).decode('utf-8')\n",
    "oauth_scopes = 'openid https://graph.microsoft.com/.default'\n",
    "\n",
    "utils.print_ok('Notebook initialized')"
   ]
  },
  {
   "cell_type": "markdown",
   "metadata": {},
   "source": [
    "<a id='1'></a>\n",
    "### 1️⃣ Verify the Azure CLI and the connected Azure subscription\n",
    "\n",
    "The following commands ensure that you have the latest version of the Azure CLI and that the Azure CLI is connected to your Azure subscription."
   ]
  },
  {
   "cell_type": "code",
   "execution_count": null,
   "metadata": {},
   "outputs": [],
   "source": [
    "output = utils.run(\"az account show\", \"Retrieved az account\", \"Failed to get the current az account\")\n",
    "\n",
    "if output.success and output.json_data:\n",
    "    current_user = output.json_data['user']['name']\n",
    "    tenant_id = output.json_data['tenantId']\n",
    "    subscription_id = output.json_data['id']\n",
    "\n",
    "    utils.print_info(f\"Current user: {current_user}\")\n",
    "    utils.print_info(f\"Tenant ID: {tenant_id}\")\n",
    "    utils.print_info(f\"Subscription ID: {subscription_id}\")"
   ]
  },
  {
   "cell_type": "markdown",
   "metadata": {},
   "source": [
    "<a id='2'></a>\n",
    "### 2️⃣ Create the App Registration in Microsoft Entra ID\n",
    "\n",
    "The following command creates a client application registration"
   ]
  },
  {
   "cell_type": "code",
   "execution_count": null,
   "metadata": {},
   "outputs": [],
   "source": [
    "# Let's try a more direct approach with Azure CLI\n",
    "import subprocess\n",
    "import json\n",
    "\n",
    "# Try to create app registration with explicit JSON output\n",
    "unique_app_name = f\"{app_registration_name}-{str(int(time.time()))[-4:]}\"\n",
    "print(f\"Creating app registration: {unique_app_name}\")\n",
    "\n",
    "try:\n",
    "    # First create the app registration\n",
    "    create_cmd = f'az ad app create --display-name \"{unique_app_name}\" --is-fallback-public-client true --output json'\n",
    "    print(f\"Running: {create_cmd}\")\n",
    "    \n",
    "    result = subprocess.run(create_cmd, shell=True, capture_output=True, text=True)\n",
    "    print(f\"Return code: {result.returncode}\")\n",
    "    print(f\"Stdout: {result.stdout}\")\n",
    "    print(f\"Stderr: {result.stderr}\")\n",
    "    \n",
    "    if result.returncode == 0 and result.stdout:\n",
    "        app_data = json.loads(result.stdout)\n",
    "        entraid_client_id = app_data.get('appId')\n",
    "        print(f\"✅ Created app with ID: {entraid_client_id}\")\n",
    "        \n",
    "        # Now create a client secret\n",
    "        if entraid_client_id:\n",
    "            secret_cmd = f'az ad app credential reset --id \"{entraid_client_id}\" --only-show-errors --output json'\n",
    "            print(f\"Creating client secret...\")\n",
    "            \n",
    "            secret_result = subprocess.run(secret_cmd, shell=True, capture_output=True, text=True)\n",
    "            if secret_result.returncode == 0 and secret_result.stdout:\n",
    "                secret_data = json.loads(secret_result.stdout)\n",
    "                entraid_client_secret = secret_data.get('password')\n",
    "                print(f\"✅ Created client secret\")\n",
    "            else:\n",
    "                print(f\"❌ Failed to create client secret: {secret_result.stderr}\")\n",
    "                entraid_client_secret = None\n",
    "        else:\n",
    "            entraid_client_secret = None\n",
    "    else:\n",
    "        print(f\"❌ Failed to create app: {result.stderr}\")\n",
    "        entraid_client_id = None\n",
    "        entraid_client_secret = None\n",
    "        \n",
    "except Exception as e:\n",
    "    print(f\"❌ Exception: {e}\")\n",
    "    entraid_client_id = None\n",
    "    entraid_client_secret = None\n",
    "\n",
    "print(f\"👉🏻 Final Client Id: {entraid_client_id}\")\n",
    "print(f\"👉🏻 Final Client Secret: {'***' if entraid_client_secret else 'None'}\")\n",
    "\n",
    "# Update the app registration name for consistency\n",
    "app_registration_name = unique_app_name"
   ]
  },
  {
   "cell_type": "markdown",
   "metadata": {},
   "source": [
    "<a id='3'></a>\n",
    "### 3️⃣ Create deployment using 🦾 Bicep\n",
    "\n",
    "This lab uses [Bicep](https://learn.microsoft.com/azure/azure-resource-manager/bicep/overview?tabs=bicep) to declarative define all the resources that will be deployed in the specified resource group. Change the parameters or the [main.bicep](main.bicep) directly to try different configurations. "
   ]
  },
  {
   "cell_type": "code",
   "execution_count": null,
   "metadata": {},
   "outputs": [],
   "source": [
    "# Create the resource group if doesn't exist\n",
    "utils.create_resource_group(resource_group_name, resource_group_location)\n",
    "\n",
    "# Define the Bicep parameters\n",
    "bicep_parameters = {\n",
    "    \"$schema\": \"https://schema.management.azure.com/schemas/2019-04-01/deploymentParameters.json#\",\n",
    "    \"contentVersion\": \"1.0.0.0\",\n",
    "    \"parameters\": {\n",
    "        \"apimSku\": { \"value\": apim_sku },\n",
    "        \"openAIConfig\": { \"value\": openai_resources },\n",
    "        \"openAIDeploymentName\": { \"value\": openai_deployment_name },\n",
    "        \"openAIModelName\": { \"value\": openai_model_name },\n",
    "        \"openAIModelVersion\": { \"value\": openai_model_version },\n",
    "        \"openAIModelSKU\": { \"value\": openai_model_sku },\n",
    "        \"openAIAPIVersion\": { \"value\": openai_api_version },\n",
    "        \"entraIDClientId\": { \"value\": entraid_client_id },\n",
    "        \"entraIDClientSecret\": { \"value\": entraid_client_secret },\n",
    "        \"oauthScopes\": { \"value\": oauth_scopes },\n",
    "        \"encryptionIV\": { \"value\": encryption_iv },\n",
    "        \"encryptionKey\": { \"value\": encryption_key },\n",
    "        \"mcpClientId\": { \"value\": entraid_client_id }\n",
    "    }\n",
    "}\n",
    "\n",
    "# Write the parameters to the params.json file\n",
    "with open('params.json', 'w') as bicep_parameters_file:\n",
    "    bicep_parameters_file.write(json.dumps(bicep_parameters))\n",
    "\n",
    "# Run the deployment\n",
    "output = utils.run(f\"az deployment group create --name {deployment_name} --resource-group {resource_group_name} --template-file main.bicep --parameters params.json\",\n",
    "    f\"Deployment '{deployment_name}' succeeded\", f\"Deployment '{deployment_name}' failed\")"
   ]
  },
  {
   "cell_type": "markdown",
   "metadata": {},
   "source": [
    "<a id='4'></a>\n",
    "### 4️⃣ Get the deployment outputs\n",
    "\n",
    "Retrieve the required outputs from the Bicep deployment."
   ]
  },
  {
   "cell_type": "code",
   "execution_count": null,
   "metadata": {},
   "outputs": [],
   "source": [
    "# Try a direct approach to get deployment outputs\n",
    "import subprocess\n",
    "import json\n",
    "\n",
    "try:\n",
    "    # Get deployment outputs directly\n",
    "    cmd = f'az deployment group show --name {deployment_name} -g {resource_group_name} --output json'\n",
    "    result = subprocess.run(cmd, shell=True, capture_output=True, text=True)\n",
    "    \n",
    "    if result.returncode == 0:\n",
    "        deployment_data = json.loads(result.stdout)\n",
    "        outputs = deployment_data.get('properties', {}).get('outputs', {})\n",
    "        \n",
    "        print(\"Available deployment outputs:\")\n",
    "        for key, value in outputs.items():\n",
    "            print(f\"  {key}: {value.get('value', 'No value')}\")\n",
    "        \n",
    "        # Extract the required outputs\n",
    "        container_registry_name = outputs.get('containerRegistryName', {}).get('value')\n",
    "        weather_containerapp_resource_name = outputs.get('weatherMCPServerContainerAppResourceName', {}).get('value')\n",
    "        apim_resource_gateway_url = outputs.get('apimResourceGatewayURL', {}).get('value')\n",
    "        apim_resource_name = outputs.get('apimResourceName', {}).get('value')\n",
    "        apim_subscription_key = outputs.get('apimSubscriptionKey', {}).get('value')\n",
    "        apim_service_id = outputs.get('apimServiceId', {}).get('value')\n",
    "        app_insights_name = outputs.get('applicationInsightsName', {}).get('value')\n",
    "        \n",
    "        print(f\"\\n✅ Successfully extracted deployment outputs:\")\n",
    "        print(f\"  container_registry_name: {container_registry_name}\")\n",
    "        print(f\"  weather_containerapp_resource_name: {weather_containerapp_resource_name}\")\n",
    "        print(f\"  apim_resource_gateway_url: {apim_resource_gateway_url}\")\n",
    "        print(f\"  apim_resource_name: {apim_resource_name}\")\n",
    "        print(f\"  app_insights_name: {app_insights_name}\")\n",
    "        \n",
    "    else:\n",
    "        print(f\"❌ Failed to get deployment outputs: {result.stderr}\")\n",
    "        \n",
    "except Exception as e:\n",
    "    print(f\"❌ Exception occurred: {e}\")"
   ]
  },
  {
   "cell_type": "markdown",
   "metadata": {},
   "source": [
    "<a id='5'></a>\n",
    "### 5️⃣ Build and deploy the MCP Servers\n",
    "\n"
   ]
  },
  {
   "cell_type": "code",
   "execution_count": null,
   "metadata": {},
   "outputs": [],
   "source": [
    "build = build + 1 # increment the build number\n",
    "\n",
    "utils.run(f\"az acr build --image {weather_mcp_server_image}:v0.{build} --resource-group {resource_group_name} --registry {container_registry_name} --file {weather_mcp_server_src}/Dockerfile {weather_mcp_server_src}/. --no-logs\", \n",
    "          \"Weather MCP Server image was successfully built\", \"Failed to build the Weather MCP Server image\")\n",
    "utils.run(f'az containerapp update -n {weather_containerapp_resource_name} -g {resource_group_name} --image \"{container_registry_name}.azurecr.io/{weather_mcp_server_image}:v0.{build}\"', \n",
    "          \"Weather MCP Server deployment succeeded\", \"Weather MCP Server deployment failed\")\n"
   ]
  },
  {
   "cell_type": "markdown",
   "metadata": {},
   "source": [
    "<a id='6'></a>\n",
    "### 6️⃣ Update the App Registration with the Redirect URI from APIM\n",
    "\n"
   ]
  },
  {
   "cell_type": "code",
   "execution_count": null,
   "metadata": {},
   "outputs": [],
   "source": [
    "utils.run(f\"az ad app update --id {entraid_client_id} --web-redirect-uris \\\"{apim_resource_gateway_url}/oauth-callback\\\"\",\n",
    "          \"Added redirect URL to app registration\",\n",
    "          \"Failed to add redirect URL to app registration\")"
   ]
  },
  {
   "cell_type": "markdown",
   "metadata": {},
   "source": [
    "<a id='unauthorizedtest'></a>\n",
    "### 🧪 Test the authorization **WITHOUT** a valid token"
   ]
  },
  {
   "cell_type": "code",
   "execution_count": null,
   "metadata": {},
   "outputs": [],
   "source": [
    "# Unauthenticated call should fail with 401 Unauthorized\n",
    "import requests\n",
    "\n",
    "mcp_server_url = f\"{apim_resource_gateway_url}/weather/sse\"\n",
    "utils.print_info(\"Calling sse endpoint WITHOUT authorization...\")\n",
    "utils.print_message(f\"MCP Server Url : {mcp_server_url}\")\n",
    "response = requests.get(mcp_server_url, headers={\"Content-Type\": \"application/json\"})\n",
    "if response.status_code == 401:\n",
    "    utils.print_ok(\"Received 401 Unauthorized as expected\")\n",
    "elif response.status_code == 200:\n",
    "    utils.print_error(\"Call succeeded. Double check that validate-jwt policy has been deployed to sse endpoint\")\n",
    "else:\n",
    "    utils.print_error(f\"Unexpected status code: {response.status_code}\")\n"
   ]
  },
  {
   "cell_type": "markdown",
   "metadata": {},
   "source": [
    "<a id='inspector'></a>\n",
    "### 🧪 Use the [MCP Inspector](https://modelcontextprotocol.io/docs/tools/inspector) to test the Authorization flow\n",
    "\n",
    "#### Execute the following steps:\n",
    "1. Execute `npx @modelcontextprotocol/inspector` in a terminal\n",
    "2. Access the provided URL in a browser, replacing the IP address with 'localhost'.\n",
    "3. Set the transport type as SSE\n",
    "4. Provide the MCP server url and click connect\n",
    "5. You should see a sign-in screen or a prompt to consent to the use of the currently signed-in account\n",
    "6. Select the \"Tools\" tab to view and execute the available tools"
   ]
  },
  {
   "cell_type": "markdown",
   "metadata": {},
   "source": [
    "<a id='clean'></a>\n",
    "### 🗑️ Clean up resources\n",
    "\n",
    "When you're finished with the lab, you should remove all your deployed resources from Azure to avoid extra charges and keep your Azure subscription uncluttered.\n",
    "Use the [clean-up-resources notebook](clean-up-resources.ipynb) for that."
   ]
  }
 ],
 "metadata": {
  "kernelspec": {
   "display_name": ".venv",
   "language": "python",
   "name": "python3"
  },
  "language_info": {
   "codemirror_mode": {
    "name": "ipython",
    "version": 3
   },
   "file_extension": ".py",
   "mimetype": "text/x-python",
   "name": "python",
   "nbconvert_exporter": "python",
   "pygments_lexer": "ipython3",
   "version": "3.12.9"
  }
 },
 "nbformat": 4,
 "nbformat_minor": 2
}
